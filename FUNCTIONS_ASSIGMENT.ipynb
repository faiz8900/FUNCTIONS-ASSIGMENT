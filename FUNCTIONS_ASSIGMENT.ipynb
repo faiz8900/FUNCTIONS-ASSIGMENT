{
  "nbformat": 4,
  "nbformat_minor": 0,
  "metadata": {
    "colab": {
      "provenance": []
    },
    "kernelspec": {
      "name": "python3",
      "display_name": "Python 3"
    },
    "language_info": {
      "name": "python"
    }
  },
  "cells": [
    {
      "cell_type": "markdown",
      "source": [
        "**FUNCTIONS** **ASSIGMENT**"
      ],
      "metadata": {
        "id": "iMFav9SI6lWa"
      }
    },
    {
      "cell_type": "markdown",
      "source": [
        "**THEORY QUESTIONS**"
      ],
      "metadata": {
        "id": "4NhF3XiS3Zhz"
      }
    },
    {
      "cell_type": "markdown",
      "source": [
        "1.  What is the difference between a function and a method in Python."
      ],
      "metadata": {
        "id": "v9yIvQE46uqc"
      }
    },
    {
      "cell_type": "markdown",
      "source": [
        " - The key difference between a function and a method in Python lies in their association and invocation. A function is a standalone block of code defined independently, while a method is a function associated with an object of a class."
      ],
      "metadata": {
        "id": "LA4uwHEW7Gnq"
      }
    },
    {
      "cell_type": "markdown",
      "source": [
        "- example"
      ],
      "metadata": {
        "id": "jwE_UrJ1nhFa"
      }
    },
    {
      "cell_type": "code",
      "source": [
        "# Function\n",
        "def add(x, y):\n",
        "    return x + y\n",
        "\n",
        "result = add(5, 3)\n",
        "print(result)\n",
        "\n",
        "\n",
        "class Dog:\n",
        "    def __init__(self, name):\n",
        "        self.name = name\n",
        "\n",
        "    def bark(self):\n",
        "        print(\"Woof! My name is\", self.name)\n",
        "\n",
        "my_dog = Dog(\"Buddy\")\n",
        "my_dog.bark()"
      ],
      "metadata": {
        "colab": {
          "base_uri": "https://localhost:8080/"
        },
        "id": "eBlz-_mApOpW",
        "outputId": "b0bac042-fa3a-4384-8776-91b52e12a86c"
      },
      "execution_count": null,
      "outputs": [
        {
          "output_type": "stream",
          "name": "stdout",
          "text": [
            "8\n",
            "Woof! My name is Buddy\n"
          ]
        }
      ]
    },
    {
      "cell_type": "code",
      "source": [],
      "metadata": {
        "id": "zRJFH0scqWpk"
      },
      "execution_count": null,
      "outputs": []
    },
    {
      "cell_type": "markdown",
      "source": [
        "2.  Explain the concept of function arguments and parameters in Python."
      ],
      "metadata": {
        "id": "0nVkctqM8KWa"
      }
    },
    {
      "cell_type": "markdown",
      "source": [
        "- In Python, functions can accept inputs, which are specified using parameters and arguments. Parameters are variables defined in the function's definition, while arguments are the actual values passed to the function when it is called.\n"
      ],
      "metadata": {
        "id": "WScoUEHF8Rf2"
      }
    },
    {
      "cell_type": "markdown",
      "source": [
        "- example"
      ],
      "metadata": {
        "id": "XFDfw0IkqMst"
      }
    },
    {
      "cell_type": "code",
      "source": [
        "def greet(name, greeting=\"Hello\"):\n",
        "    \"\"\"\n",
        "    This function greets the person passed in as a parameter\n",
        "    \"\"\"\n",
        "    message = f\"{greeting}, {name}!\"\n",
        "    return message\n",
        "\n",
        "\n",
        "result1 = greet(\"Alice\", \"Hi\")\n",
        "result2 = greet(\"Bob\")"
      ],
      "metadata": {
        "id": "K0YAkT-_p6su"
      },
      "execution_count": null,
      "outputs": []
    },
    {
      "cell_type": "markdown",
      "source": [
        "In this example:\n",
        "name and greeting are parameters of the greet function.\n",
        "\"Alice\" and \"Hi\" are arguments passed in the first function call.\n",
        "\"Bob\" is an argument passed in the second function call, with greeting taking its default value."
      ],
      "metadata": {
        "id": "CLGJT5MlqdBe"
      }
    },
    {
      "cell_type": "code",
      "source": [],
      "metadata": {
        "id": "2l9SDSdOqYEl"
      },
      "execution_count": null,
      "outputs": []
    },
    {
      "cell_type": "markdown",
      "source": [
        "3.  What are the different ways to define and call a function in Python."
      ],
      "metadata": {
        "id": "auYgVeeI9AYq"
      }
    },
    {
      "cell_type": "markdown",
      "source": [
        "- In Python, functions are defined using the def keyword, followed by the function name, parentheses (), and a colon :. The function body is indented below the definition line. There are several ways to define and call functions in Python: Basic Function Definition"
      ],
      "metadata": {
        "id": "KCBJdrz8sXFI"
      }
    },
    {
      "cell_type": "markdown",
      "source": [
        "- example"
      ],
      "metadata": {
        "id": "imfXlAMEsY8x"
      }
    },
    {
      "cell_type": "markdown",
      "source": [
        "- Using the def keyword\n",
        "This is the most common way to define a function in Python."
      ],
      "metadata": {
        "id": "IYuHUNn3rNS5"
      }
    },
    {
      "cell_type": "code",
      "source": [
        "def greet(name):\n",
        "  \"\"\"This function greets the person passed in as a parameter.\"\"\"\n",
        "  print(f\"Hello, {name}!\")\n",
        "\n",
        "greet(\"Alice\")"
      ],
      "metadata": {
        "colab": {
          "base_uri": "https://localhost:8080/"
        },
        "id": "DSm9ge0lrJSm",
        "outputId": "a3c35fdb-1e7a-40c2-ee8f-b886ac0a5788"
      },
      "execution_count": null,
      "outputs": [
        {
          "output_type": "stream",
          "name": "stdout",
          "text": [
            "Hello, Alice!\n"
          ]
        }
      ]
    },
    {
      "cell_type": "markdown",
      "source": [
        "- Lambda functions (anonymous functions)\n",
        "These are small, single-expression functions that don't require a def keyword."
      ],
      "metadata": {
        "id": "FzcY55_3rVGj"
      }
    },
    {
      "cell_type": "code",
      "source": [
        "add = lambda x, y: x + y\n",
        "result = add(5, 3)\n",
        "print(result)"
      ],
      "metadata": {
        "colab": {
          "base_uri": "https://localhost:8080/"
        },
        "id": "1IZNZZ3creHV",
        "outputId": "b50f2c4a-3168-4f72-b255-db6d58412857"
      },
      "execution_count": null,
      "outputs": [
        {
          "output_type": "stream",
          "name": "stdout",
          "text": [
            "8\n"
          ]
        }
      ]
    },
    {
      "cell_type": "markdown",
      "source": [
        "- Functions with default arguments"
      ],
      "metadata": {
        "id": "1qC0AbCMrk60"
      }
    },
    {
      "cell_type": "code",
      "source": [
        "def greet(name=\"Guest\"):\n",
        "    print(f\"Hello, {name}!\")\n",
        "greet()\n",
        "greet(\"Bob\")"
      ],
      "metadata": {
        "colab": {
          "base_uri": "https://localhost:8080/"
        },
        "id": "dxg7C_afrqDJ",
        "outputId": "2f761274-c0e9-4428-86ab-0d559b3a7e63"
      },
      "execution_count": null,
      "outputs": [
        {
          "output_type": "stream",
          "name": "stdout",
          "text": [
            "Hello, Guest!\n",
            "Hello, Bob!\n"
          ]
        }
      ]
    },
    {
      "cell_type": "code",
      "source": [],
      "metadata": {
        "id": "zTz9wLtDsfrX"
      },
      "execution_count": null,
      "outputs": []
    },
    {
      "cell_type": "markdown",
      "source": [
        "4. What is the purpose of the `return` statement in a Python function."
      ],
      "metadata": {
        "id": "A3JUa6Yj-bZM"
      }
    },
    {
      "cell_type": "markdown",
      "source": [
        "- The return statement in a Python function serves two primary purposes:\n",
        "Exiting the function:\n",
        "When a return statement is encountered, it immediately terminates the execution of the function, and transfers control back to the caller. Any code within the function that appears after the return statement will not be executed.\n",
        "Providing a value:\n",
        "The return statement can be used to send a value (or multiple values) back to the caller of the function. This returned value can then be used for further processing, assigned to a variable, or passed as an argument to another function. If no value is specified, then the function returns None by default.\n",
        "Python\n",
        "\n"
      ],
      "metadata": {
        "id": "fCwQzUOD-leI"
      }
    },
    {
      "cell_type": "markdown",
      "source": [
        "- example"
      ],
      "metadata": {
        "id": "otjBMRx-vR-k"
      }
    },
    {
      "cell_type": "code",
      "source": [
        "def details_2():\n",
        "   name = input(\"please write your name: \")\n",
        "   country = input(\"please write your country: \")\n",
        "   return name, country\n",
        "# function calling\n",
        "details_2()"
      ],
      "metadata": {
        "colab": {
          "base_uri": "https://localhost:8080/"
        },
        "id": "6c9vr4zowBMF",
        "outputId": "806a1e12-0cb7-4efb-920d-5f532c24ac79"
      },
      "execution_count": null,
      "outputs": [
        {
          "name": "stdout",
          "output_type": "stream",
          "text": [
            "please write your name: faiz\n",
            "please write your country: siliguri\n"
          ]
        },
        {
          "output_type": "execute_result",
          "data": {
            "text/plain": [
              "('faiz', 'siliguri')"
            ]
          },
          "metadata": {},
          "execution_count": 39
        }
      ]
    },
    {
      "cell_type": "code",
      "source": [],
      "metadata": {
        "id": "k6AqJ2rhxQuR"
      },
      "execution_count": null,
      "outputs": []
    },
    {
      "cell_type": "markdown",
      "source": [
        "5. What are iterators in Python and how do they differ from iterables."
      ],
      "metadata": {
        "id": "ehjNSuX7-v5h"
      }
    },
    {
      "cell_type": "markdown",
      "source": [
        "- In Python, iterables are objects capable of returning their members one at a time, making them suitable for iteration in a for loop. Examples include lists, tuples, strings, dictionaries, and sets. Iterators, on the other hand, are objects that facilitate the actual iteration process over an iterable. They maintain state and provide a __next__() method to retrieve the next item, raising StopIteration when no more items are available.\n",
        "Python\n",
        "\n"
      ],
      "metadata": {
        "id": "pwzkFzCexsI0"
      }
    },
    {
      "cell_type": "markdown",
      "source": [
        "- example"
      ],
      "metadata": {
        "id": "vJdfPQ6by7JW"
      }
    },
    {
      "cell_type": "code",
      "source": [
        "# Iterable example: a list\n",
        "my_list = [1, 2, 3]\n",
        "my_iterator = iter(my_list)\n",
        "print(next(my_iterator))\n",
        "print(next(my_iterator))\n",
        "print(next(my_iterator))\n",
        "\n"
      ],
      "metadata": {
        "colab": {
          "base_uri": "https://localhost:8080/"
        },
        "id": "7vBkPpkKyhEw",
        "outputId": "3a0b039a-5e34-4df2-ae26-01173fa1b2c4"
      },
      "execution_count": null,
      "outputs": [
        {
          "output_type": "stream",
          "name": "stdout",
          "text": [
            "1\n",
            "2\n",
            "3\n"
          ]
        }
      ]
    },
    {
      "cell_type": "code",
      "source": [],
      "metadata": {
        "id": "lmXDIN4Dyu9m"
      },
      "execution_count": null,
      "outputs": []
    },
    {
      "cell_type": "markdown",
      "source": [
        "6.  Explain the concept of generators in Python and how they are defined."
      ],
      "metadata": {
        "id": "cjfU53hMCYPY"
      }
    },
    {
      "cell_type": "markdown",
      "source": [
        "- Generator functions in Python are a way to create iterators in a more concise and memory-efficient mannerf."
      ],
      "metadata": {
        "id": "muPLIdlJzGIa"
      }
    },
    {
      "cell_type": "markdown",
      "source": [
        "- These functions allow you to iterate over a potentially large sequence of data without loading the entire\n",
        "sequence into memory."
      ],
      "metadata": {
        "id": "URcROHR1zLTH"
      }
    },
    {
      "cell_type": "markdown",
      "source": [
        "- The main difference between a regular function and a generator function is that the latter uses the yield\n",
        "keyword to produce a series of values over time, one at a time, rather than returning a single result."
      ],
      "metadata": {
        "id": "rGBKKzN8y6eM"
      }
    },
    {
      "cell_type": "markdown",
      "source": [
        "- example"
      ],
      "metadata": {
        "id": "wboc1e2wzvDx"
      }
    },
    {
      "cell_type": "code",
      "source": [
        "def pw_skills_generator():\n",
        "   yield \"Python\"\n",
        "   yield \"Web Development\"\n",
        "   yield \"Problem Solving\"\n",
        "   yield \"Debugging\"\n",
        "for skill in pw_skills_generator():\n",
        "   print(f\"Learn: {skill}\")"
      ],
      "metadata": {
        "colab": {
          "base_uri": "https://localhost:8080/"
        },
        "id": "mG6SPAyCzfa4",
        "outputId": "cbd1e761-f362-491b-c55c-b412b19a496a"
      },
      "execution_count": null,
      "outputs": [
        {
          "output_type": "stream",
          "name": "stdout",
          "text": [
            "Learn: Python\n",
            "Learn: Web Development\n",
            "Learn: Problem Solving\n",
            "Learn: Debugging\n"
          ]
        }
      ]
    },
    {
      "cell_type": "code",
      "source": [],
      "metadata": {
        "id": "51cFkOiaz3PF"
      },
      "execution_count": null,
      "outputs": []
    },
    {
      "cell_type": "markdown",
      "source": [
        "7. What are the advantages of using generators over regular functions."
      ],
      "metadata": {
        "id": "ezHUVnZYDLF8"
      }
    },
    {
      "cell_type": "markdown",
      "source": [
        "- Generators offer several advantages over regular functions, primarily related to memory efficiency and lazy evaluation. Unlike regular functions that return a complete result set, generators produce values one at a time, allowing for efficient handling of large datasets or infinite sequences without exhausting memory. This \"lazy evaluation\" means processing only the data needed at the moment, and resuming from where the generator left off when called again."
      ],
      "metadata": {
        "id": "KdItPtCjz5d-"
      }
    },
    {
      "cell_type": "markdown",
      "source": [
        "- example"
      ],
      "metadata": {
        "id": "znIuFclEz5H_"
      }
    },
    {
      "cell_type": "code",
      "source": [
        "def regular_function(n):\n",
        "    results = []\n",
        "    for i in range(n):\n",
        "        results.append(i**2)\n",
        "    return results\n",
        "\n",
        "def generator_function(n):\n",
        "    for i in range(n):\n",
        "        yield i**2\n",
        "n = 10\n",
        "regular_result = regular_function(n)\n",
        "generator_result = generator_function(n)\n",
        "\n",
        "print(\"Regular function result:\", regular_result)\n",
        "print(\"Generator function result:\", list(generator_result))"
      ],
      "metadata": {
        "colab": {
          "base_uri": "https://localhost:8080/"
        },
        "id": "EFZbu2xEz7tJ",
        "outputId": "a317670a-0626-436b-c724-afbcc174ea48"
      },
      "execution_count": null,
      "outputs": [
        {
          "output_type": "stream",
          "name": "stdout",
          "text": [
            "Regular function result: [0, 1, 4, 9, 16, 25, 36, 49, 64, 81]\n",
            "Generator function result: [0, 1, 4, 9, 16, 25, 36, 49, 64, 81]\n"
          ]
        }
      ]
    },
    {
      "cell_type": "code",
      "source": [],
      "metadata": {
        "id": "4CUudtce0mpJ"
      },
      "execution_count": null,
      "outputs": []
    },
    {
      "cell_type": "markdown",
      "source": [
        "8. What is a lambda function in Python and when is it typically used?"
      ],
      "metadata": {
        "id": "OKYeiLU6D6qO"
      }
    },
    {
      "cell_type": "markdown",
      "source": [
        "- A lambda function in Python is a concise way to create anonymous functions, also known as lambda\n",
        "expressionsp."
      ],
      "metadata": {
        "id": "9xsLHhT700PS"
      }
    },
    {
      "cell_type": "markdown",
      "source": [
        "- It's primarily used for short, simple operations where a full function definition using def would be overly verbose."
      ],
      "metadata": {
        "id": "oyhGymSu1qYz"
      }
    },
    {
      "cell_type": "markdown",
      "source": [
        "- example"
      ],
      "metadata": {
        "id": "mBF5U0d_1cte"
      }
    },
    {
      "cell_type": "code",
      "source": [
        "add = lambda x, y: x + y\n",
        "result = add(3, 4)\n",
        "print(result)"
      ],
      "metadata": {
        "colab": {
          "base_uri": "https://localhost:8080/"
        },
        "id": "g5k8cvfR1eh8",
        "outputId": "b6734bad-139a-46b5-a752-3bde4d22715e"
      },
      "execution_count": null,
      "outputs": [
        {
          "output_type": "stream",
          "name": "stdout",
          "text": [
            "7\n"
          ]
        }
      ]
    },
    {
      "cell_type": "code",
      "source": [],
      "metadata": {
        "id": "Lvln5ElS1zee"
      },
      "execution_count": null,
      "outputs": []
    },
    {
      "cell_type": "markdown",
      "source": [
        "9.  Explain the purpose and usage of the `map()` function in Python."
      ],
      "metadata": {
        "id": "6hpC2co3E1qt"
      }
    },
    {
      "cell_type": "markdown",
      "source": [
        "- The map() function in Python applies a given function to each item of an iterable (like a list or tuple) and returns an iterator that yields the results. This avoids explicit loops, leading to cleaner and often more efficient code.\n",
        "The map() function is useful for transforming data within iterables without modifying the original data structure. It enhances code readability and can be more efficient than traditional loops, particularly when working with large datasets."
      ],
      "metadata": {
        "id": "ndwMd3XaGYfq"
      }
    },
    {
      "cell_type": "markdown",
      "source": [
        "- example"
      ],
      "metadata": {
        "id": "Rx4466PU2GUm"
      }
    },
    {
      "cell_type": "code",
      "source": [
        "numbers = [1, 2, 3, 4, 5]\n",
        "squared_numbers = map(lambda x: x**2, numbers)\n",
        "print(list(squared_numbers))"
      ],
      "metadata": {
        "colab": {
          "base_uri": "https://localhost:8080/"
        },
        "id": "QHdz6JvF2IOF",
        "outputId": "9a0ee0e2-868c-42ed-a3f0-d1ba364191c8"
      },
      "execution_count": null,
      "outputs": [
        {
          "output_type": "stream",
          "name": "stdout",
          "text": [
            "[1, 4, 9, 16, 25]\n"
          ]
        }
      ]
    },
    {
      "cell_type": "code",
      "source": [],
      "metadata": {
        "id": "hLj4Klq22PlU"
      },
      "execution_count": null,
      "outputs": []
    },
    {
      "cell_type": "markdown",
      "source": [
        "10.  What is the difference between `map()`, `reduce()`, and `filter()` functions in Python?"
      ],
      "metadata": {
        "id": "xde04hf8GiAL"
      }
    },
    {
      "cell_type": "markdown",
      "source": [
        "- The map(), filter(), and reduce() functions are built-in higher-order functions in Python that operate on iterables (like lists, tuples, etc.) by applying a function to them. However, they differ in their purpose and how they process the iterable."
      ],
      "metadata": {
        "id": "XqWuPofs2gh5"
      }
    },
    {
      "cell_type": "markdown",
      "source": [
        "- map(): Applies a given function to each item of an iterable and returns an iterator that yields the results. It transforms each element individually."
      ],
      "metadata": {
        "id": "WEvcqr6k2h4s"
      }
    },
    {
      "cell_type": "markdown",
      "source": [
        "- example"
      ],
      "metadata": {
        "id": "nEYk59Vg2uz5"
      }
    },
    {
      "cell_type": "code",
      "source": [
        "    numbers = [1, 2, 3, 4]\n",
        "    squared_numbers = map(lambda x: x**2, numbers)\n",
        "    print(list(squared_numbers))"
      ],
      "metadata": {
        "colab": {
          "base_uri": "https://localhost:8080/"
        },
        "id": "mctAN6sJ2nCB",
        "outputId": "67ca1b7a-032c-4e22-c2b7-f8478880989f"
      },
      "execution_count": null,
      "outputs": [
        {
          "output_type": "stream",
          "name": "stdout",
          "text": [
            "[1, 4, 9, 16]\n"
          ]
        }
      ]
    },
    {
      "cell_type": "markdown",
      "source": [
        "- reduce(): Applies a rolling computation to sequential pairs of elements in an iterable and returns a single value. It aggregates elements. This function is part of the functools module in Python 3."
      ],
      "metadata": {
        "id": "J8r6VLl_2zwY"
      }
    },
    {
      "cell_type": "markdown",
      "source": [
        "- example"
      ],
      "metadata": {
        "id": "jEMtEoWG26TS"
      }
    },
    {
      "cell_type": "code",
      "source": [
        "    from functools import reduce\n",
        "    numbers = [1, 2, 3, 4]\n",
        "    product = reduce(lambda x, y: x * y, numbers)\n",
        "    print(product)"
      ],
      "metadata": {
        "colab": {
          "base_uri": "https://localhost:8080/"
        },
        "id": "wzWQM6Iw29RM",
        "outputId": "9e351a3d-0e2f-46a8-9c1c-088fcdc006dc"
      },
      "execution_count": null,
      "outputs": [
        {
          "output_type": "stream",
          "name": "stdout",
          "text": [
            "24\n"
          ]
        }
      ]
    },
    {
      "cell_type": "markdown",
      "source": [
        "- filter(): Constructs an iterator from elements of an iterable for which a function returns true. It selects elements based on a condition."
      ],
      "metadata": {
        "id": "XX6AAW1O3D07"
      }
    },
    {
      "cell_type": "markdown",
      "source": [
        "- example"
      ],
      "metadata": {
        "id": "XIj7JL2W3Igf"
      }
    },
    {
      "cell_type": "code",
      "source": [
        "    numbers = [1, 2, 3, 4, 5, 6]\n",
        "    even_numbers = filter(lambda x: x % 2 == 0, numbers)\n",
        "    print(list(even_numbers))"
      ],
      "metadata": {
        "colab": {
          "base_uri": "https://localhost:8080/"
        },
        "id": "XDTODw2d3Klp",
        "outputId": "7fe93098-9841-49f6-b3ff-e420e574023e"
      },
      "execution_count": null,
      "outputs": [
        {
          "output_type": "stream",
          "name": "stdout",
          "text": [
            "[2, 4, 6]\n"
          ]
        }
      ]
    },
    {
      "cell_type": "code",
      "source": [],
      "metadata": {
        "id": "kdZO1dCQ3TRI"
      },
      "execution_count": null,
      "outputs": []
    },
    {
      "cell_type": "markdown",
      "source": [
        "11.  Using pen & Paper write the internal mechanism for sum operation using  reduce function on this given\n",
        "list:[47,11,42,13];"
      ],
      "metadata": {
        "id": "oXYAN7xxHadS"
      }
    },
    {
      "cell_type": "markdown",
      "source": [
        "![WhatsApp Image 2025-05-22 at 11.46.49 AM.jpeg](data:image/jpeg;base64,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)"
      ],
      "metadata": {
        "id": "PXt15PzdJouA"
      }
    },
    {
      "cell_type": "code",
      "source": [],
      "metadata": {
        "id": "x5XhQzZjXbsG"
      },
      "execution_count": null,
      "outputs": []
    },
    {
      "cell_type": "markdown",
      "source": [
        "** PRACTICAL QUESTIONS**"
      ],
      "metadata": {
        "id": "GPKHv7BAIuje"
      }
    },
    {
      "cell_type": "markdown",
      "source": [
        "1. Write a Python function that takes a list of numbers as input and returns the sum of all even numbers in\n",
        "the list."
      ],
      "metadata": {
        "id": "fyEHJv7lO9VM"
      }
    },
    {
      "cell_type": "code",
      "source": [
        "def sum_of_even_numbers(numbers):\n",
        "    \"\"\"\n",
        "    Calculates the sum of all even numbers in a list.\n",
        "\n",
        "    Args:\n",
        "        numbers: A list of integers.\n",
        "\n",
        "    Returns:\n",
        "        The sum of all even numbers in the list.\n",
        "    \"\"\"\n",
        "    even_sum = 0\n",
        "    for number in numbers:\n",
        "        if number % 2 == 0:\n",
        "            even_sum += number\n",
        "    return even_sum\n",
        "my_list = [1, 2, 3, 4, 5, 6, 7, 8, 9, 10]\n",
        "sum_even = sum_of_even_numbers(my_list)\n",
        "print(f\"The sum of even numbers in the list is: {sum_even}\")"
      ],
      "metadata": {
        "colab": {
          "base_uri": "https://localhost:8080/"
        },
        "id": "mW5ejZht4L8f",
        "outputId": "8e21d0c6-5aa1-4e7d-dc8a-56dfa1320731"
      },
      "execution_count": null,
      "outputs": [
        {
          "output_type": "stream",
          "name": "stdout",
          "text": [
            "The sum of even numbers in the list is: 30\n"
          ]
        }
      ]
    },
    {
      "cell_type": "code",
      "source": [],
      "metadata": {
        "id": "xtTKjHkd4aBB"
      },
      "execution_count": null,
      "outputs": []
    },
    {
      "cell_type": "markdown",
      "source": [
        " 2.  Create a Python function that accepts a string and returns the reverse of that string\n",
        " ."
      ],
      "metadata": {
        "id": "v60HVrcPQ7Q2"
      }
    },
    {
      "cell_type": "code",
      "source": [
        "def reverse_string(input_string):\n",
        "  \"\"\"\n",
        "  Reverses a given string.\n",
        "\n",
        "  Args:\n",
        "    input_string: The string to reverse.\n",
        "\n",
        "  Returns:\n",
        "    The reversed string.\n",
        "  \"\"\"\n",
        "  return input_string[::-1]\n",
        "my_string = \"hello world\"\n",
        "reversed_str = reverse_string(my_string)\n",
        "print(f\"The reversed string is: {reversed_str}\")"
      ],
      "metadata": {
        "colab": {
          "base_uri": "https://localhost:8080/"
        },
        "id": "O2HmZqPYTEfq",
        "outputId": "714ae20d-a9b7-43f4-c1c1-deecefdce049"
      },
      "execution_count": null,
      "outputs": [
        {
          "output_type": "stream",
          "name": "stdout",
          "text": [
            "The reversed string is: dlrow olleh\n"
          ]
        }
      ]
    },
    {
      "cell_type": "code",
      "source": [],
      "metadata": {
        "id": "51UNBGixXZEn"
      },
      "execution_count": null,
      "outputs": []
    },
    {
      "cell_type": "markdown",
      "source": [
        "3.  Implement a Python function that takes a list of integers and returns a new list containing the squares of\n",
        "each number."
      ],
      "metadata": {
        "id": "AxJlDvLZTL2f"
      }
    },
    {
      "cell_type": "code",
      "source": [
        "def square_numbers(numbers):\n",
        "  \"\"\"\n",
        "  Returns a new list containing the squares of each number in the input list.\n",
        "\n",
        "  Args:\n",
        "    numbers: A list of integers.\n",
        "\n",
        "  Returns:\n",
        "    A new list with the squares of the input numbers.\n",
        "  \"\"\"\n",
        "  squared_list = [number ** 2 for number in numbers]\n",
        "  return squared_list\n",
        "my_numbers = [1, 2, 3, 4, 5]\n",
        "squared_numbers_list = square_numbers(my_numbers)\n",
        "print(f\"The list of squared numbers is: {squared_numbers_list}\")"
      ],
      "metadata": {
        "colab": {
          "base_uri": "https://localhost:8080/"
        },
        "id": "Kqn9HIiXTEa6",
        "outputId": "5d642734-4b85-4aec-b963-aad94795474f"
      },
      "execution_count": null,
      "outputs": [
        {
          "output_type": "stream",
          "name": "stdout",
          "text": [
            "The list of squared numbers is: [1, 4, 9, 16, 25]\n"
          ]
        }
      ]
    },
    {
      "cell_type": "code",
      "source": [],
      "metadata": {
        "id": "_kSlJ79qXYcb"
      },
      "execution_count": null,
      "outputs": []
    },
    {
      "cell_type": "markdown",
      "source": [
        "4. Write a Python function that checks if a given number is prime or not from 1 to 200.\n",
        "\n",
        "\n"
      ],
      "metadata": {
        "id": "yewVNANBTscm"
      }
    },
    {
      "cell_type": "code",
      "source": [
        "def is_prime(num):\n",
        "  \"\"\"\n",
        "  Checks if a given number is prime.\n",
        "\n",
        "  Args:\n",
        "    num: An integer.\n",
        "\n",
        "  Returns:\n",
        "    True if the number is prime, False otherwise.\n",
        "  \"\"\"\n",
        "  if num <= 1:\n",
        "    return False\n",
        "  for i in range(2, int(num**0.5) + 1):\n",
        "    if num % i == 0:\n",
        "      return False\n",
        "  return True\n",
        "for number in range(1, 201):\n",
        "  if is_prime(number):\n",
        "    print(f\"{number} is a prime number.\")"
      ],
      "metadata": {
        "colab": {
          "base_uri": "https://localhost:8080/"
        },
        "id": "Q63NWNmoTzuz",
        "outputId": "f12a0308-31d5-4d80-ca34-132bb811cc0a"
      },
      "execution_count": null,
      "outputs": [
        {
          "output_type": "stream",
          "name": "stdout",
          "text": [
            "2 is a prime number.\n",
            "3 is a prime number.\n",
            "5 is a prime number.\n",
            "7 is a prime number.\n",
            "11 is a prime number.\n",
            "13 is a prime number.\n",
            "17 is a prime number.\n",
            "19 is a prime number.\n",
            "23 is a prime number.\n",
            "29 is a prime number.\n",
            "31 is a prime number.\n",
            "37 is a prime number.\n",
            "41 is a prime number.\n",
            "43 is a prime number.\n",
            "47 is a prime number.\n",
            "53 is a prime number.\n",
            "59 is a prime number.\n",
            "61 is a prime number.\n",
            "67 is a prime number.\n",
            "71 is a prime number.\n",
            "73 is a prime number.\n",
            "79 is a prime number.\n",
            "83 is a prime number.\n",
            "89 is a prime number.\n",
            "97 is a prime number.\n",
            "101 is a prime number.\n",
            "103 is a prime number.\n",
            "107 is a prime number.\n",
            "109 is a prime number.\n",
            "113 is a prime number.\n",
            "127 is a prime number.\n",
            "131 is a prime number.\n",
            "137 is a prime number.\n",
            "139 is a prime number.\n",
            "149 is a prime number.\n",
            "151 is a prime number.\n",
            "157 is a prime number.\n",
            "163 is a prime number.\n",
            "167 is a prime number.\n",
            "173 is a prime number.\n",
            "179 is a prime number.\n",
            "181 is a prime number.\n",
            "191 is a prime number.\n",
            "193 is a prime number.\n",
            "197 is a prime number.\n",
            "199 is a prime number.\n"
          ]
        }
      ]
    },
    {
      "cell_type": "code",
      "source": [],
      "metadata": {
        "id": "ElW4EVzxT0Rt"
      },
      "execution_count": null,
      "outputs": []
    },
    {
      "cell_type": "markdown",
      "source": [
        "5. Create an iterator class in Python that generates the Fibonacci sequence up to a specified number of\n",
        "terms."
      ],
      "metadata": {
        "id": "fP9I0WpuEzYH"
      }
    },
    {
      "cell_type": "code",
      "source": [
        "class FibonacciIterator:\n",
        "    \"\"\"\n",
        "    An iterator class to generate the Fibonacci sequence up to a specified number of terms.\n",
        "    \"\"\"\n",
        "    def __init__(self, limit):\n",
        "        if limit < 0:\n",
        "            raise ValueError(\"Limit must be a non-negative integer\")\n",
        "        self.limit = limit\n",
        "        self.count = 0\n",
        "        self.a, self.b = 0, 1\n",
        "\n",
        "    def __iter__(self):\n",
        "        return self\n",
        "\n",
        "    def __next__(self):\n",
        "        if self.count < self.limit:\n",
        "            if self.count == 0:\n",
        "                self.count += 1\n",
        "                return self.a\n",
        "            elif self.count == 1:\n",
        "                self.count += 1\n",
        "                return self.b\n",
        "            else:\n",
        "                self.a, self.b = self.b, self.a + self.b\n",
        "                self.count += 1\n",
        "                return self.b\n",
        "        else:\n",
        "            raise StopIteration\n",
        "fib_iter = FibonacciIterator(10)\n",
        "print(\"Fibonacci sequence up to 10 terms:\")\n",
        "for num in fib_iter:\n",
        "    print(num)\n",
        "\n",
        "print(\"\\nFibonacci sequence up to 5 terms:\")\n",
        "fib_iter_short = FibonacciIterator(5)\n",
        "print(list(fib_iter_short))"
      ],
      "metadata": {
        "colab": {
          "base_uri": "https://localhost:8080/"
        },
        "id": "Gs_S6xz8UxXj",
        "outputId": "6d72d92e-167f-479f-8ab7-c6ff0e1d2297"
      },
      "execution_count": null,
      "outputs": [
        {
          "output_type": "stream",
          "name": "stdout",
          "text": [
            "Fibonacci sequence up to 10 terms:\n",
            "0\n",
            "1\n",
            "1\n",
            "2\n",
            "3\n",
            "5\n",
            "8\n",
            "13\n",
            "21\n",
            "34\n",
            "\n",
            "Fibonacci sequence up to 5 terms:\n",
            "[0, 1, 1, 2, 3]\n"
          ]
        }
      ]
    },
    {
      "cell_type": "code",
      "source": [],
      "metadata": {
        "id": "5u1YTN4wVdNQ"
      },
      "execution_count": null,
      "outputs": []
    },
    {
      "cell_type": "markdown",
      "source": [
        "6. Write a generator function in Python that yields the powers of 2 up to a given exponent."
      ],
      "metadata": {
        "id": "4LQLi0wICFEv"
      }
    },
    {
      "cell_type": "code",
      "source": [
        "def powers_of_2(exponent):\n",
        "  \"\"\"\n",
        "  A generator function that yields the powers of 2 up to a given exponent.\n",
        "\n",
        "  Args:\n",
        "    exponent: The maximum exponent to calculate the power of 2 for.\n",
        "\n",
        "  Yields:\n",
        "    The powers of 2 from 2^0 up to 2^exponent.\n",
        "  \"\"\"\n",
        "  for i in range(exponent + 1):\n",
        "    yield 2**i\n",
        "for power in powers_of_2(5):\n",
        "  print(power)\n",
        "power_list = list(powers_of_2(3))\n",
        "power_list"
      ],
      "metadata": {
        "colab": {
          "base_uri": "https://localhost:8080/"
        },
        "id": "J-ZYU6GLVwUI",
        "outputId": "a5bd7fdc-7042-4999-cde8-691ded8c47cf"
      },
      "execution_count": null,
      "outputs": [
        {
          "output_type": "stream",
          "name": "stdout",
          "text": [
            "1\n",
            "2\n",
            "4\n",
            "8\n",
            "16\n",
            "32\n"
          ]
        },
        {
          "output_type": "execute_result",
          "data": {
            "text/plain": [
              "[1, 2, 4, 8]"
            ]
          },
          "metadata": {},
          "execution_count": 69
        }
      ]
    },
    {
      "cell_type": "code",
      "source": [],
      "metadata": {
        "id": "Vi--w2U-WYtV"
      },
      "execution_count": null,
      "outputs": []
    },
    {
      "cell_type": "markdown",
      "source": [
        "7.  Implement a generator function that reads a file line by line and yields each line as a string."
      ],
      "metadata": {
        "id": "ZMQWLGKpWXrs"
      }
    },
    {
      "cell_type": "code",
      "source": [
        "def read_file_line_by_line(filepath):\n",
        "  \"\"\"\n",
        "  A generator function that reads a file line by line and yields each line.\n",
        "\n",
        "  Args:\n",
        "    filepath: The path to the file to read.\n",
        "\n",
        "  Yields:\n",
        "    Each line of the file as a string, including the newline character if present.\n",
        "  \"\"\"\n",
        "  try:\n",
        "    with open(filepath, 'r') as f:\n",
        "      for line in f:\n",
        "        yield line\n",
        "  except FileNotFoundError:\n",
        "    print(f\"Error: File not found at {filepath}\")\n",
        "  except Exception as e:\n",
        "    print(f\"An error occurred: {e}\")\n",
        "with open('filename.txt', 'w') as f:\n",
        "    f.write('This is the first line.\\n')\n",
        "    f.write('This is the second line.\\n')\n",
        "    f.write('And this is the third line.')\n",
        "file_generator = read_file_line_by_line('filename.txt')\n",
        "\n",
        "print(\"Reading file using the generator:\")\n",
        "for line in file_generator:\n",
        "  print(line, end='')"
      ],
      "metadata": {
        "colab": {
          "base_uri": "https://localhost:8080/"
        },
        "id": "YVXkvbcMWO4u",
        "outputId": "1c4ce35e-5022-4b29-c69b-25f141285a79"
      },
      "execution_count": null,
      "outputs": [
        {
          "output_type": "stream",
          "name": "stdout",
          "text": [
            "Reading file using the generator:\n",
            "This is the first line.\n",
            "This is the second line.\n",
            "And this is the third line."
          ]
        }
      ]
    },
    {
      "cell_type": "code",
      "source": [],
      "metadata": {
        "id": "1N-xiV2WYfxy"
      },
      "execution_count": null,
      "outputs": []
    },
    {
      "cell_type": "markdown",
      "source": [
        "8. Use a lambda function in Python to sort a list of tuples based on the second element of each tuple."
      ],
      "metadata": {
        "id": "08g7wHXvXfb9"
      }
    },
    {
      "cell_type": "code",
      "source": [
        "data = [(1, 'z'), (2, 'a'), (3, 'b'), (4, 'y')]\n",
        "sorted_data = sorted(data, key=lambda x: x[1])\n",
        "print(f\"Original list: {data}\")\n",
        "print(f\"Sorted list by second element: {sorted_data}\")"
      ],
      "metadata": {
        "colab": {
          "base_uri": "https://localhost:8080/"
        },
        "id": "eAIQ37qaXM3w",
        "outputId": "d5fb2b2d-ce52-4109-ee92-1663f7a60407"
      },
      "execution_count": null,
      "outputs": [
        {
          "output_type": "stream",
          "name": "stdout",
          "text": [
            "Original list: [(1, 'z'), (2, 'a'), (3, 'b'), (4, 'y')]\n",
            "Sorted list by second element: [(2, 'a'), (3, 'b'), (4, 'y'), (1, 'z')]\n"
          ]
        }
      ]
    },
    {
      "cell_type": "code",
      "source": [],
      "metadata": {
        "id": "70DWKF9DX8W7"
      },
      "execution_count": null,
      "outputs": []
    },
    {
      "cell_type": "markdown",
      "source": [
        "9.  Write a Python program that uses `map()` to convert a list of temperatures from Celsius to Fahrenheit."
      ],
      "metadata": {
        "id": "9TODxFQV7hJo"
      }
    },
    {
      "cell_type": "code",
      "source": [
        "# Formula to convert Celsius to Fahrenheit: F = (C * 9/5) + 32\n",
        "celsius_temperatures = [0, 20, 30, 100, -10]\n",
        "celsius_to_fahrenheit = lambda celsius: (celsius * 9/5) + 32\n",
        "fahrenheit_temperatures = list(map(celsius_to_fahrenheit, celsius_temperatures))\n",
        "\n",
        "print(f\"Celsius temperatures: {celsius_temperatures}\")\n",
        "print(f\"Fahrenheit temperatures: {fahrenheit_temperatures}\")"
      ],
      "metadata": {
        "colab": {
          "base_uri": "https://localhost:8080/"
        },
        "id": "kkKzJd0wYVsH",
        "outputId": "53e3e16b-5b50-4d4b-833c-70097602548b"
      },
      "execution_count": null,
      "outputs": [
        {
          "output_type": "stream",
          "name": "stdout",
          "text": [
            "Celsius temperatures: [0, 20, 30, 100, -10]\n",
            "Fahrenheit temperatures: [32.0, 68.0, 86.0, 212.0, 14.0]\n"
          ]
        }
      ]
    },
    {
      "cell_type": "code",
      "source": [],
      "metadata": {
        "id": "-WiH3fQAYyhe"
      },
      "execution_count": null,
      "outputs": []
    },
    {
      "cell_type": "markdown",
      "source": [
        "10. Create a Python program that uses `filter()` to remove all the vowels from a given string."
      ],
      "metadata": {
        "id": "dcQY9GQp7P-F"
      }
    },
    {
      "cell_type": "code",
      "source": [
        "def remove_vowels(input_string):\n",
        "  \"\"\"\n",
        "  Removes all vowels from a string using the filter() function.\n",
        "\n",
        "  Args:\n",
        "    input_string: The string to remove vowels from.\n",
        "\n",
        "  Returns:\n",
        "    The string with all vowels removed.\n",
        "  \"\"\"\n",
        "  vowels = \"aeiouAEIOU\"\n",
        "  non_vowel = lambda char: char not in vowels\n",
        "  filtered_chars = filter(non_vowel, input_string)\n",
        "  return \"\".join(filtered_chars)\n",
        "my_string_with_vowels = \"This is a test string with vowels.\"\n",
        "string_without_vowels = remove_vowels(my_string_with_vowels)\n",
        "\n",
        "print(f\"Original string: {my_string_with_vowels}\")\n",
        "print(f\"String without vowels: {string_without_vowels}\")"
      ],
      "metadata": {
        "colab": {
          "base_uri": "https://localhost:8080/"
        },
        "id": "lwilehwcY80p",
        "outputId": "dd3c3a58-4e3e-452d-89c0-e5e078144198"
      },
      "execution_count": null,
      "outputs": [
        {
          "output_type": "stream",
          "name": "stdout",
          "text": [
            "Original string: This is a test string with vowels.\n",
            "String without vowels: Ths s  tst strng wth vwls.\n"
          ]
        }
      ]
    },
    {
      "cell_type": "code",
      "source": [],
      "metadata": {
        "id": "_0X2PvS1ZOfz"
      },
      "execution_count": null,
      "outputs": []
    },
    {
      "cell_type": "markdown",
      "source": [
        "11.  Imagine an accounting routine used in a book shop. It works on a list with sublists, which look like this:\n",
        "\n",
        "\n",
        "\n",
        "\n",
        "\n",
        "\n",
        "\n",
        "Write a Python program, which returns a list with 2-tuples. Each tuple consists of the order number and the\n",
        "product of the price per item and the quantity. The product should be increased by 10,- € if the value of the\n",
        "order is smaller than 100,00 €.\n",
        "\n",
        "Write a Python program using lambda and map."
      ],
      "metadata": {
        "id": "GhuqlotO6lQ9"
      }
    },
    {
      "cell_type": "code",
      "source": [
        "book_list = [\n",
        "    [34587, \"Learning Python, Mark Lutz\", 4, 40.95],\n",
        "    [98762, \"Programming Python, Mark Lutz\", 5, 56.80],\n",
        "    [77226, \"Head First Python, Paul Barry\", 3, 32.95],\n",
        "    [88112, \"Einführung in Python3, Bernd Klein\", 3, 24.99]\n",
        "]\n",
        "\n",
        "def calculate_order_summary(book_list):\n",
        "  order_summary = []\n",
        "  for order in book_list:\n",
        "    order_number, _, quantity, price_per_item = order\n",
        "    total_price = quantity * price_per_item\n",
        "    if total_price < 100:\n",
        "      total_price += 10\n",
        "    order_summary.append((order_number, total_price))\n",
        "  return order_summary\n",
        "order_summary = calculate_order_summary(book_list)\n",
        "print(order_summary)"
      ],
      "metadata": {
        "colab": {
          "base_uri": "https://localhost:8080/"
        },
        "id": "c1W7_wyFdeIv",
        "outputId": "0e62a53e-cbab-4e9d-fdf5-832f38512882"
      },
      "execution_count": null,
      "outputs": [
        {
          "output_type": "stream",
          "name": "stdout",
          "text": [
            "[(34587, 163.8), (98762, 284.0), (77226, 108.85000000000001), (88112, 84.97)]\n"
          ]
        }
      ]
    }
  ]
}